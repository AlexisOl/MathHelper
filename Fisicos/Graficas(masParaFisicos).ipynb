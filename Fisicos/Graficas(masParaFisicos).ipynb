{
 "cells": [
  {
   "cell_type": "markdown",
   "metadata": {},
   "source": [
    "## FISICO\n",
    "##### Esto sera mas para los fisicos que desean graficas e iteraciones de algunos modelos pueden usar \"Trinket\" con glowscript y Vpython para graficas en 3D, ademas de graficas en 2d"
   ]
  },
  {
   "cell_type": "markdown",
   "metadata": {},
   "source": [
    "GlowScript 3.1 VPython\n",
    "\n",
    "f1=gcurve()\n",
    "\n",
    "f1.plot(1,2)\n",
    "\n",
    "f1.plot(2.3, 4.2)\n",
    "\n",
    "# valores de curva \n",
    "\n",
    "A = 1.2\n",
    "\n",
    "k=3\n",
    "\n",
    "w =2\n",
    "\n",
    "#varibles de movimiento\n",
    "\n",
    "x=0\n",
    "\n",
    "y =0 \n",
    "\n",
    "#diferenciales\n",
    "\n",
    "dx = 0.01\n",
    "\n",
    "gy = graph(xtitle = \"X\", ytitle = \"dx\", width = 500, height = 700)\n",
    "\n",
    "funct = gcurve()\n",
    "\n",
    "while (x < 4):\n",
    "\n",
    "  t = A*sin(k*x-w*y)\n",
    "\n",
    "  funct.plot(x, t)\n",
    "  \n",
    "  x=x+dx"
   ]
  },
  {
   "cell_type": "markdown",
   "metadata": {},
   "source": [
    "### Esto es para la graficacion de 1. Una recta y 2. Una funcion de onda en base al seno"
   ]
  }
 ],
 "metadata": {
  "language_info": {
   "name": "python"
  },
  "orig_nbformat": 4
 },
 "nbformat": 4,
 "nbformat_minor": 2
}
