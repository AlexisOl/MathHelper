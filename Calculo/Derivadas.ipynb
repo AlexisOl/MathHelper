{
 "cells": [
  {
   "cell_type": "markdown",
   "metadata": {},
   "source": [
    "# Derivadas"
   ]
  },
  {
   "cell_type": "code",
   "execution_count": 72,
   "metadata": {},
   "outputs": [
    {
     "name": "stdout",
     "output_type": "stream",
     "text": [
      "/sbin/python: No module named pip\n",
      "Note: you may need to restart the kernel to use updated packages.\n"
     ]
    }
   ],
   "source": [
    "pip install matplotlib"
   ]
  },
  {
   "cell_type": "code",
   "execution_count": 73,
   "metadata": {},
   "outputs": [],
   "source": [
    "from sympy import * \n",
    "import numpy as np \n",
    "import matplotlib.pyplot as plt \n",
    "init_printing(use_unicode=True)"
   ]
  },
  {
   "cell_type": "markdown",
   "metadata": {},
   "source": [
    "En este caso estableceremos las variables como simbolos, de los contrario\n",
    "puede que se tome como una constante"
   ]
  },
  {
   "cell_type": "code",
   "execution_count": 74,
   "metadata": {},
   "outputs": [
    {
     "data": {
      "image/png": "[encoded data removed]",
      "text/latex": [
       "$\\displaystyle x^{9}$"
      ],
      "text/plain": [
       " 9\n",
       "x "
      ]
     },
     "execution_count": 74,
     "metadata": {},
     "output_type": "execute_result"
    }
   ],
   "source": [
    "x,y = symbols(\"x y\")\n",
    "z = symbols(\"z\")\n",
    "y = x**9\n",
    "y"
   ]
  },
  {
   "cell_type": "markdown",
   "metadata": {},
   "source": [
    "## Usando el comando diff y estableciendo una variable, se podra derivar esta, aqui dos ejemplo"
   ]
  },
  {
   "cell_type": "code",
   "execution_count": 75,
   "metadata": {},
   "outputs": [
    {
     "data": {
      "image/png": "[encoded data removed]",
      "text/latex": [
       "$\\displaystyle 9 x^{8}$"
      ],
      "text/plain": [
       "   8\n",
       "9⋅x "
      ]
     },
     "execution_count": 75,
     "metadata": {},
     "output_type": "execute_result"
    }
   ],
   "source": [
    "diff(y)"
   ]
  },
  {
   "cell_type": "code",
   "execution_count": 76,
   "metadata": {},
   "outputs": [
    {
     "data": {
      "image/png": "[encoded data removed]",
      "text/latex": [
       "$\\displaystyle 18 x^{17} + \\cos{\\left(x \\right)}$"
      ],
      "text/plain": [
       "    17         \n",
       "18⋅x   + cos(x)"
      ]
     },
     "execution_count": 76,
     "metadata": {},
     "output_type": "execute_result"
    }
   ],
   "source": [
    "z = (y**2)+sin(x)\n",
    "# se llama para visualizar\n",
    "z\n",
    "diff(z)"
   ]
  },
  {
   "cell_type": "markdown",
   "metadata": {},
   "source": [
    "## Ahora estableciendo una expresion mas compleja"
   ]
  },
  {
   "cell_type": "code",
   "execution_count": 77,
   "metadata": {},
   "outputs": [
    {
     "data": {
      "image/png": "[encoded data removed]",
      "text/latex": [
       "$\\displaystyle e^{x^{18} + \\sin{\\left(x \\right)}} \\log{\\left(x^{9} \\right)} + \\tanh{\\left(x \\right)} + 120$"
      ],
      "text/plain": [
       "  18                                 \n",
       " x   + sin(x)    ⎛ 9⎞                \n",
       "ℯ            ⋅log⎝x ⎠ + tanh(x) + 120"
      ]
     },
     "execution_count": 77,
     "metadata": {},
     "output_type": "execute_result"
    }
   ],
   "source": [
    "w = symbols(\"w\")\n",
    "w = tanh(x)+(log(y)*exp(z))+factorial(5)\n",
    "# Nueva expresion para w\n",
    "w"
   ]
  },
  {
   "cell_type": "code",
   "execution_count": 78,
   "metadata": {},
   "outputs": [
    {
     "data": {
      "image/png": "[encoded data removed]",
      "text/latex": [
       "$\\displaystyle \\left(18 x^{17} + \\cos{\\left(x \\right)}\\right) e^{x^{18} + \\sin{\\left(x \\right)}} \\log{\\left(x^{9} \\right)} - \\tanh^{2}{\\left(x \\right)} + 1 + \\frac{9 e^{x^{18} + \\sin{\\left(x \\right)}}}{x}$"
      ],
      "text/plain": [
       "                                                             18         \n",
       "                    18                                      x   + sin(x)\n",
       "⎛    17         ⎞  x   + sin(x)    ⎛ 9⎞       2          9⋅ℯ            \n",
       "⎝18⋅x   + cos(x)⎠⋅ℯ            ⋅log⎝x ⎠ - tanh (x) + 1 + ───────────────\n",
       "                                                                x       "
      ]
     },
     "execution_count": 78,
     "metadata": {},
     "output_type": "execute_result"
    }
   ],
   "source": [
    "# derivacion\n",
    "diff(w)"
   ]
  },
  {
   "cell_type": "markdown",
   "metadata": {},
   "source": [
    "### Con esto podemos comprobar la veracidad de la operacion, resultado correcto, solo queda simplificar un poco mas para\n"
   ]
  },
  {
   "cell_type": "code",
   "execution_count": 79,
   "metadata": {
    "vscode": {
     "languageId": "latex"
    }
   },
   "outputs": [
    {
     "data": {
      "text/latex": [
       "$\\displaystyle \\text{sech(x)} $"
      ],
      "text/plain": [
       "<IPython.core.display.Math object>"
      ]
     },
     "metadata": {},
     "output_type": "display_data"
    }
   ],
   "source": [
    "from IPython.display import display, Math, Latex\n",
    "display(Math(r'\\text{sech(x)} '))\n"
   ]
  },
  {
   "cell_type": "markdown",
   "metadata": {},
   "source": [
    "#### la cual se representa como :"
   ]
  },
  {
   "cell_type": "code",
   "execution_count": 80,
   "metadata": {
    "vscode": {
     "languageId": "latex"
    }
   },
   "outputs": [
    {
     "data": {
      "text/latex": [
       "$\\displaystyle \\tanh^2(x) = 1 + \\text{sech(x)}^2$"
      ],
      "text/plain": [
       "<IPython.core.display.Math object>"
      ]
     },
     "metadata": {},
     "output_type": "display_data"
    }
   ],
   "source": [
    "display(Math(r'\\tanh^2(x) = 1 + \\text{sech(x)}^2'))\n"
   ]
  },
  {
   "cell_type": "markdown",
   "metadata": {},
   "source": [
    "Pero no nos quedemos con ese lema banal ZZZzzzzZZZzzZZZzzzz\n",
    "DEMOSTREMOS"
   ]
  },
  {
   "cell_type": "code",
   "execution_count": 81,
   "metadata": {
    "vscode": {
     "languageId": "latex"
    }
   },
   "outputs": [
    {
     "name": "stdout",
     "output_type": "stream",
     "text": [
      "/sbin/python: No module named pip\n",
      "Note: you may need to restart the kernel to use updated packages.\n"
     ]
    }
   ],
   "source": [
    "pip install mathjax"
   ]
  },
  {
   "cell_type": "markdown",
   "metadata": {},
   "source": [
    "$$\n",
    "- \\tanh^2(x) + 1=sech^2(x) \n",
    "$$\n",
    "Cambio a terminos de euler\n",
    "$$-(\\frac{e^{x}-e^{-x}}{e^{x}+e^{-x}})^2+1     = (\\frac{2}{e^{x}+e^{-x}})^2 \\rightarrow$$\n",
    "$$-\\frac{(e^{x}-e^{-x})^2}{(e^{x}+e^{-x})^2}+1 = \\frac{4}{(e^{x}+e^{-x})^2} \\rightarrow $$\n",
    "$$-\\frac{(e^{x}-e^{-x})^2+(e^{x}+e^{-x})^2}{(e^{x}+e^{-x})^2} = \\frac{4}{(e^{x}+e^{-x})^2} \\rightarrow $$\n",
    "$$-\\frac{(e^{2x}-2+e^{-2x})+(e^{2x}+2+e^{-2x})}{(e^{x}+e^{-x})^2} = \\frac{4}{(e^{x}+e^{-x})^2} \\rightarrow $$\n",
    "$$\\frac{4}{(e^{x}+e^{-x})^2} = \\frac{4}{(e^{x}+e^{-x})^2} \\square $$\n",
    "\n"
   ]
  },
  {
   "cell_type": "markdown",
   "metadata": {},
   "source": [
    "## Diferenciacion de expresiones continuas * 1 Forma\n",
    "para que ejecute una serie de derivadas en base de una funcion, entonces se realiza lo siguiente"
   ]
  },
  {
   "cell_type": "code",
   "execution_count": 89,
   "metadata": {},
   "outputs": [
    {
     "data": {
      "image/png": "[encoded data removed]",
      "text/latex": [
       "$\\displaystyle 2 t \\left(10 t^{2} + 138 t - 69\\right)$"
      ],
      "text/plain": [
       "    ⎛    2             ⎞\n",
       "2⋅t⋅⎝10⋅t  + 138⋅t - 69⎠"
      ]
     },
     "execution_count": 89,
     "metadata": {},
     "output_type": "execute_result"
    }
   ],
   "source": [
    "t = symbols(\"t\")\n",
    "diff(t**5+23*t**4-23*t**3+t-1,t,t)"
   ]
  },
  {
   "cell_type": "code",
   "execution_count": 90,
   "metadata": {},
   "outputs": [
    {
     "data": {
      "image/png": "[encoded data removed]",
      "text/latex": [
       "$\\displaystyle 24 \\cdot \\left(5 t + 23\\right)$"
      ],
      "text/plain": [
       "24⋅(5⋅t + 23)"
      ]
     },
     "execution_count": 90,
     "metadata": {},
     "output_type": "execute_result"
    }
   ],
   "source": [
    "diff(t**5+23*t**4-23*t**3+t-1,t,t, t,t)"
   ]
  },
  {
   "cell_type": "code",
   "execution_count": 92,
   "metadata": {},
   "outputs": [
    {
     "data": {
      "image/png": "[encoded data removed]",
      "text/latex": [
       "$\\displaystyle 120$"
      ],
      "text/plain": [
       "120"
      ]
     },
     "execution_count": 92,
     "metadata": {},
     "output_type": "execute_result"
    }
   ],
   "source": [
    "diff(t**5+23*t**4-23*t**3+t-1,t,t, t,t,t)"
   ]
  },
  {
   "cell_type": "markdown",
   "metadata": {},
   "source": [
    "### Se separa por comas de la expresion la cantidad de veces que quieras derivar, la expresion, siempre en cuenta que el valor que ingresas en las iteraciones debe de ser la varible independiente de la funcion"
   ]
  },
  {
   "cell_type": "markdown",
   "metadata": {},
   "source": [
    "## * 2 Forma"
   ]
  },
  {
   "cell_type": "code",
   "execution_count": 95,
   "metadata": {},
   "outputs": [
    {
     "data": {
      "image/png": "[encoded data removed]",
      "text/latex": [
       "$\\displaystyle 24 x + e^{x} - \\cos{\\left(x \\right)}$"
      ],
      "text/plain": [
       "        x         \n",
       "24⋅x + ℯ  - cos(x)"
      ]
     },
     "execution_count": 95,
     "metadata": {},
     "output_type": "execute_result"
    }
   ],
   "source": [
    "diff(exp(x)+sin(x)+x**4, x , 3)"
   ]
  },
  {
   "cell_type": "code",
   "execution_count": 101,
   "metadata": {},
   "outputs": [
    {
     "data": {
      "image/png": "[encoded data removed]",
      "text/latex": [
       "$\\displaystyle \\frac{\\sin{\\left(x \\right)} + \\frac{4 \\cos{\\left(x \\right)}}{x} - \\frac{12 \\sin{\\left(x \\right)}}{x^{2}} - \\frac{24 \\cos{\\left(x \\right)}}{x^{3}} + \\frac{24 \\sin{\\left(x \\right)}}{x^{4}}}{x}$"
      ],
      "text/plain": [
       "         4⋅cos(x)   12⋅sin(x)   24⋅cos(x)   24⋅sin(x)\n",
       "sin(x) + ──────── - ───────── - ───────── + ─────────\n",
       "            x            2           3           4   \n",
       "                        x           x           x    \n",
       "─────────────────────────────────────────────────────\n",
       "                          x                          "
      ]
     },
     "execution_count": 101,
     "metadata": {},
     "output_type": "execute_result"
    }
   ],
   "source": [
    "diff(sin(x)/x, x,4)"
   ]
  },
  {
   "cell_type": "markdown",
   "metadata": {},
   "source": [
    "## En esta segunda forma, se utiliza la siguiente sintaxis \n",
    "   ### diff(FUNCION, VARIABLE_INDEPENDIENTE, CANTIDAD_DE_DERIVACIONES)\n",
    "#### De esta forma se podra derivar sin necesidad de escribir una gran cantidad de veces consecutivas la variable independiente"
   ]
  },
  {
   "cell_type": "markdown",
   "metadata": {},
   "source": [
    "## Posterior continuacion ..."
   ]
  }
 ],
 "metadata": {
  "interpreter": {
   "hash": "d2152fd7f0bbc62aa1baff8c990435d1e2c7175d001561303988032604c11a48"
  },
  "kernelspec": {
   "display_name": "Python 3.10.4 64-bit",
   "language": "python",
   "name": "python3"
  },
  "language_info": {
   "codemirror_mode": {
    "name": "ipython",
    "version": 3
   },
   "file_extension": ".py",
   "mimetype": "text/x-python",
   "name": "python",
   "nbconvert_exporter": "python",
   "pygments_lexer": "ipython3",
   "version": "3.10.4"
  },
  "orig_nbformat": 4
 },
 "nbformat": 4,
 "nbformat_minor": 2
}
