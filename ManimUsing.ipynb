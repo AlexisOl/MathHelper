{
 "cells": [
  {
   "cell_type": "code",
   "execution_count": 97,
   "metadata": {},
   "outputs": [
    {
     "name": "stdout",
     "output_type": "stream",
     "text": [
      "Defaulting to user installation because normal site-packages is not writeable\n",
      "Requirement already satisfied: manim_notebook in /home/alexis/.local/lib/python3.10/site-packages (1.0.1)\n",
      "Requirement already satisfied: IPython in /home/alexis/.local/lib/python3.10/site-packages (from manim_notebook) (8.3.0)\n",
      "Requirement already satisfied: manimlib in /home/alexis/.local/lib/python3.10/site-packages (from manim_notebook) (0.2.0)\n",
      "Requirement already satisfied: notebook in /home/alexis/.local/lib/python3.10/site-packages (from manim_notebook) (6.4.11)\n",
      "Collecting argparse\n",
      "  Using cached argparse-1.4.0-py2.py3-none-any.whl (23 kB)\n",
      "Requirement already satisfied: backcall in /home/alexis/.local/lib/python3.10/site-packages (from IPython->manim_notebook) (0.2.0)\n",
      "Requirement already satisfied: decorator in /home/alexis/.local/lib/python3.10/site-packages (from IPython->manim_notebook) (5.1.1)\n",
      "Requirement already satisfied: jedi>=0.16 in /home/alexis/.local/lib/python3.10/site-packages (from IPython->manim_notebook) (0.18.1)\n",
      "Requirement already satisfied: matplotlib-inline in /home/alexis/.local/lib/python3.10/site-packages (from IPython->manim_notebook) (0.1.3)\n",
      "Requirement already satisfied: pickleshare in /home/alexis/.local/lib/python3.10/site-packages (from IPython->manim_notebook) (0.7.5)\n",
      "Requirement already satisfied: prompt-toolkit!=3.0.0,!=3.0.1,<3.1.0,>=2.0.0 in /home/alexis/.local/lib/python3.10/site-packages (from IPython->manim_notebook) (3.0.29)\n",
      "Requirement already satisfied: pygments>=2.4.0 in /home/alexis/.local/lib/python3.10/site-packages (from IPython->manim_notebook) (2.12.0)\n",
      "Requirement already satisfied: setuptools>=18.5 in /usr/lib/python3.10/site-packages (from IPython->manim_notebook) (60.6.0)\n",
      "Requirement already satisfied: stack-data in /home/alexis/.local/lib/python3.10/site-packages (from IPython->manim_notebook) (0.2.0)\n",
      "Requirement already satisfied: traitlets>=5 in /home/alexis/.local/lib/python3.10/site-packages (from IPython->manim_notebook) (5.2.1.post0)\n",
      "Requirement already satisfied: pexpect>4.3 in /home/alexis/.local/lib/python3.10/site-packages (from IPython->manim_notebook) (4.8.0)\n",
      "Requirement already satisfied: parso<0.9.0,>=0.8.0 in /home/alexis/.local/lib/python3.10/site-packages (from jedi>=0.16->IPython->manim_notebook) (0.8.3)\n",
      "Requirement already satisfied: ptyprocess>=0.5 in /home/alexis/.local/lib/python3.10/site-packages (from pexpect>4.3->IPython->manim_notebook) (0.7.0)\n",
      "Requirement already satisfied: wcwidth in /home/alexis/.local/lib/python3.10/site-packages (from prompt-toolkit!=3.0.0,!=3.0.1,<3.1.0,>=2.0.0->IPython->manim_notebook) (0.2.5)\n",
      "Requirement already satisfied: colour in /home/alexis/.local/lib/python3.10/site-packages (from manimlib->manim_notebook) (0.1.5)\n",
      "Requirement already satisfied: numpy in /home/alexis/.local/lib/python3.10/site-packages (from manimlib->manim_notebook) (1.22.4)\n",
      "Requirement already satisfied: Pillow in /usr/lib/python3.10/site-packages (from manimlib->manim_notebook) (9.1.0)\n",
      "Requirement already satisfied: progressbar in /home/alexis/.local/lib/python3.10/site-packages (from manimlib->manim_notebook) (2.5)\n",
      "Requirement already satisfied: scipy in /home/alexis/.local/lib/python3.10/site-packages (from manimlib->manim_notebook) (1.8.1)\n",
      "Requirement already satisfied: tqdm in /home/alexis/.local/lib/python3.10/site-packages (from manimlib->manim_notebook) (4.64.0)\n",
      "Requirement already satisfied: opencv-python in /home/alexis/.local/lib/python3.10/site-packages (from manimlib->manim_notebook) (4.5.5.64)\n",
      "Requirement already satisfied: pycairo in /usr/lib/python3.10/site-packages (from manimlib->manim_notebook) (1.21.0)\n",
      "Requirement already satisfied: pydub in /home/alexis/.local/lib/python3.10/site-packages (from manimlib->manim_notebook) (0.25.1)\n",
      "Requirement already satisfied: jinja2 in /home/alexis/.local/lib/python3.10/site-packages (from notebook->manim_notebook) (3.1.2)\n",
      "Requirement already satisfied: tornado>=6.1 in /home/alexis/.local/lib/python3.10/site-packages (from notebook->manim_notebook) (6.1)\n",
      "Requirement already satisfied: pyzmq>=17 in /home/alexis/.local/lib/python3.10/site-packages (from notebook->manim_notebook) (23.0.0)\n",
      "Requirement already satisfied: argon2-cffi in /home/alexis/.local/lib/python3.10/site-packages (from notebook->manim_notebook) (21.3.0)\n",
      "Requirement already satisfied: jupyter-core>=4.6.1 in /home/alexis/.local/lib/python3.10/site-packages (from notebook->manim_notebook) (4.10.0)\n",
      "Requirement already satisfied: jupyter-client>=5.3.4 in /home/alexis/.local/lib/python3.10/site-packages (from notebook->manim_notebook) (7.3.1)\n",
      "Requirement already satisfied: ipython-genutils in /home/alexis/.local/lib/python3.10/site-packages (from notebook->manim_notebook) (0.2.0)\n",
      "Requirement already satisfied: nbformat in /home/alexis/.local/lib/python3.10/site-packages (from notebook->manim_notebook) (5.4.0)\n",
      "Requirement already satisfied: nbconvert>=5 in /home/alexis/.local/lib/python3.10/site-packages (from notebook->manim_notebook) (6.5.0)\n",
      "Requirement already satisfied: nest-asyncio>=1.5 in /home/alexis/.local/lib/python3.10/site-packages (from notebook->manim_notebook) (1.5.5)\n",
      "Requirement already satisfied: ipykernel in /home/alexis/.local/lib/python3.10/site-packages (from notebook->manim_notebook) (6.13.0)\n",
      "Requirement already satisfied: Send2Trash>=1.8.0 in /home/alexis/.local/lib/python3.10/site-packages (from notebook->manim_notebook) (1.8.0)\n",
      "Requirement already satisfied: terminado>=0.8.3 in /home/alexis/.local/lib/python3.10/site-packages (from notebook->manim_notebook) (0.15.0)\n",
      "Requirement already satisfied: prometheus-client in /home/alexis/.local/lib/python3.10/site-packages (from notebook->manim_notebook) (0.14.1)\n",
      "Requirement already satisfied: entrypoints in /home/alexis/.local/lib/python3.10/site-packages (from jupyter-client>=5.3.4->notebook->manim_notebook) (0.4)\n",
      "Requirement already satisfied: python-dateutil>=2.8.2 in /home/alexis/.local/lib/python3.10/site-packages (from jupyter-client>=5.3.4->notebook->manim_notebook) (2.8.2)\n",
      "Requirement already satisfied: beautifulsoup4 in /home/alexis/.local/lib/python3.10/site-packages (from nbconvert>=5->notebook->manim_notebook) (4.11.1)\n",
      "Requirement already satisfied: bleach in /home/alexis/.local/lib/python3.10/site-packages (from nbconvert>=5->notebook->manim_notebook) (5.0.0)\n",
      "Requirement already satisfied: defusedxml in /usr/lib/python3.10/site-packages (from nbconvert>=5->notebook->manim_notebook) (0.7.1)\n",
      "Requirement already satisfied: jupyterlab-pygments in /home/alexis/.local/lib/python3.10/site-packages (from nbconvert>=5->notebook->manim_notebook) (0.2.2)\n",
      "Requirement already satisfied: MarkupSafe>=2.0 in /home/alexis/.local/lib/python3.10/site-packages (from nbconvert>=5->notebook->manim_notebook) (2.1.1)\n",
      "Requirement already satisfied: mistune<2,>=0.8.1 in /home/alexis/.local/lib/python3.10/site-packages (from nbconvert>=5->notebook->manim_notebook) (0.8.4)\n",
      "Requirement already satisfied: nbclient>=0.5.0 in /home/alexis/.local/lib/python3.10/site-packages (from nbconvert>=5->notebook->manim_notebook) (0.6.3)\n",
      "Requirement already satisfied: packaging in /usr/lib/python3.10/site-packages (from nbconvert>=5->notebook->manim_notebook) (21.3)\n",
      "Requirement already satisfied: pandocfilters>=1.4.1 in /home/alexis/.local/lib/python3.10/site-packages (from nbconvert>=5->notebook->manim_notebook) (1.5.0)\n",
      "Requirement already satisfied: tinycss2 in /usr/lib/python3.10/site-packages (from nbconvert>=5->notebook->manim_notebook) (1.1.1)\n",
      "Requirement already satisfied: jsonschema>=2.6 in /home/alexis/.local/lib/python3.10/site-packages (from nbformat->notebook->manim_notebook) (4.5.1)\n",
      "Requirement already satisfied: fastjsonschema in /home/alexis/.local/lib/python3.10/site-packages (from nbformat->notebook->manim_notebook) (2.15.3)\n",
      "Requirement already satisfied: attrs>=17.4.0 in /home/alexis/.local/lib/python3.10/site-packages (from jsonschema>=2.6->nbformat->notebook->manim_notebook) (21.4.0)\n",
      "Requirement already satisfied: pyrsistent!=0.17.0,!=0.17.1,!=0.17.2,>=0.14.0 in /home/alexis/.local/lib/python3.10/site-packages (from jsonschema>=2.6->nbformat->notebook->manim_notebook) (0.18.1)\n",
      "Requirement already satisfied: six>=1.5 in /usr/lib/python3.10/site-packages (from python-dateutil>=2.8.2->jupyter-client>=5.3.4->notebook->manim_notebook) (1.16.0)\n",
      "Requirement already satisfied: argon2-cffi-bindings in /home/alexis/.local/lib/python3.10/site-packages (from argon2-cffi->notebook->manim_notebook) (21.2.0)\n",
      "Requirement already satisfied: cffi>=1.0.1 in /usr/lib/python3.10/site-packages (from argon2-cffi-bindings->argon2-cffi->notebook->manim_notebook) (1.15.0)\n",
      "Requirement already satisfied: pycparser in /usr/lib/python3.10/site-packages (from cffi>=1.0.1->argon2-cffi-bindings->argon2-cffi->notebook->manim_notebook) (2.21)\n",
      "Requirement already satisfied: soupsieve>1.2 in /home/alexis/.local/lib/python3.10/site-packages (from beautifulsoup4->nbconvert>=5->notebook->manim_notebook) (2.3.2.post1)\n",
      "Requirement already satisfied: webencodings in /usr/lib/python3.10/site-packages (from bleach->nbconvert>=5->notebook->manim_notebook) (0.5.1)\n",
      "Requirement already satisfied: debugpy>=1.0 in /home/alexis/.local/lib/python3.10/site-packages (from ipykernel->notebook->manim_notebook) (1.6.0)\n",
      "Requirement already satisfied: psutil in /usr/lib/python3.10/site-packages (from ipykernel->notebook->manim_notebook) (5.9.0)\n",
      "Requirement already satisfied: pyparsing!=3.0.5,>=2.0.2 in /usr/lib/python3.10/site-packages (from packaging->nbconvert>=5->notebook->manim_notebook) (3.0.9)\n",
      "Requirement already satisfied: executing in /home/alexis/.local/lib/python3.10/site-packages (from stack-data->IPython->manim_notebook) (0.8.3)\n",
      "Requirement already satisfied: asttokens in /home/alexis/.local/lib/python3.10/site-packages (from stack-data->IPython->manim_notebook) (2.0.5)\n",
      "Requirement already satisfied: pure-eval in /home/alexis/.local/lib/python3.10/site-packages (from stack-data->IPython->manim_notebook) (0.2.2)\n",
      "Installing collected packages: argparse\n",
      "Successfully installed argparse-1.4.0\n",
      "Note: you may need to restart the kernel to use updated packages.\n"
     ]
    }
   ],
   "source": [
    "pip install manim_notebook\n"
   ]
  },
  {
   "cell_type": "code",
   "execution_count": 98,
   "metadata": {},
   "outputs": [
    {
     "name": "stdout",
     "output_type": "stream",
     "text": [
      "Name: manim-notebook\n",
      "Version: 1.0.1\n",
      "Summary: Integrates manim with jupyter notebook\n",
      "Home-page: https://github.com/AkashKarnatak/manim_notebook\n",
      "Author: Akash Karnatak\n",
      "Author-email: akashkarnatak.ak47@gmail.com\n",
      "License: MIT\n",
      "Location: /home/alexis/.local/lib/python3.10/site-packages\n",
      "Requires: IPython, manimlib, notebook, argparse\n",
      "Required-by: \n",
      "Note: you may need to restart the kernel to use updated packages.\n"
     ]
    }
   ],
   "source": [
    "pip show manim_notebook"
   ]
  },
  {
   "cell_type": "code",
   "execution_count": 99,
   "metadata": {},
   "outputs": [],
   "source": [
    "from manim_notebook import *"
   ]
  },
  {
   "cell_type": "markdown",
   "metadata": {},
   "source": [
    "## En este caso por algunos problemas del tamanio de resolusion, use mango para manim"
   ]
  },
  {
   "cell_type": "code",
   "execution_count": 100,
   "metadata": {},
   "outputs": [
    {
     "data": {
      "text/html": [
       "\n",
       "    <img src onerror=\"\n",
       "    let cell = this.closest('.code_cell');\n",
       "    console.log('mycell');\n",
       "    cell.id = 'mycell';\n",
       "    \">\n",
       "    <style>\n",
       "    #notebook-container {\n",
       "       width: 95%\n",
       "    }\n",
       "    #mycell {\n",
       "       flex-direction: row !important;\n",
       "    }\n",
       "\n",
       "    #mycell .input {\n",
       "        width: 50%\n",
       "    }\n",
       "\n",
       "    #mycell .output_wrapper {\n",
       "        width: 50%\n",
       "    }\n",
       "    }\n",
       "    </style>\n",
       "    "
      ],
      "text/plain": [
       "<IPython.core.display.HTML object>"
      ]
     },
     "metadata": {},
     "output_type": "display_data"
    },
    {
     "name": "stderr",
     "output_type": "stream",
     "text": [
      "                                                                       \r"
     ]
    },
    {
     "data": {
      "text/html": [
       "<br>\n",
       "    <video width=\"480\" height=\"300\" autoplay controls>\n",
       "        <source src=\"data:video/mp4;base64,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\" type=\"video/mp4\">\n",
       "    </video>\n",
       "    "
      ],
      "text/plain": [
       "<IPython.core.display.HTML object>"
      ]
     },
     "execution_count": 100,
     "metadata": {},
     "output_type": "execute_result"
    }
   ],
   "source": [
    "%%mango -l\n",
    "circle = Circle(radius=3, stroke_width=5,\n",
    "                stroke_color=YELLOW, fill_color=GREEN,\n",
    "                fill_opacity=1)\n",
    "self.play(ShowCreation(circle))\n",
    "self.wait(4)\n",
    "\n"
   ]
  }
 ],
 "metadata": {
  "kernelspec": {
   "display_name": "Python 3.10.4 64-bit",
   "language": "python",
   "name": "python3"
  },
  "language_info": {
   "codemirror_mode": {
    "name": "ipython",
    "version": 3
   },
   "file_extension": ".py",
   "mimetype": "text/x-python",
   "name": "python",
   "nbconvert_exporter": "python",
   "pygments_lexer": "ipython3",
   "version": "3.10.4"
  },
  "orig_nbformat": 4,
  "vscode": {
   "interpreter": {
    "hash": "e7370f93d1d0cde622a1f8e1c04877d8463912d04d973331ad4851f04de6915a"
   }
  }
 },
 "nbformat": 4,
 "nbformat_minor": 2
}
